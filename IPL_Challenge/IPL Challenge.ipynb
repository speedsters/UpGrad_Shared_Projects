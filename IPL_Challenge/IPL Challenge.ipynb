{
 "cells": [
  {
   "cell_type": "markdown",
   "metadata": {
    "ExecuteTime": {
     "end_time": "2019-02-26T15:59:10.550916Z",
     "start_time": "2019-02-26T15:59:10.545050Z"
    }
   },
   "source": [
    "## Data files used below are sourced from\n",
    "https://cricsheet.org/downloads/india.zip\n",
    "    \n",
    "manually filtered for IND-AUS matches"
   ]
  },
  {
   "cell_type": "code",
   "execution_count": 1,
   "metadata": {
    "ExecuteTime": {
     "end_time": "2019-02-26T16:26:32.325335Z",
     "start_time": "2019-02-26T16:26:31.055035Z"
    },
    "init_cell": true
   },
   "outputs": [],
   "source": [
    "from ruamel.yaml import YAML\n",
    "import pandas as pd\n",
    "import numpy as np\n",
    "import os, glob\n",
    "from pathlib import Path\n",
    "\n",
    "# Team data sourced from https://www.cricbuzz.com/cricket-series/2773/australia-tour-of-india-2019/squads\n",
    "india_team = ['R Sharma', 'S Dhawan', 'V Kohli', 'AT Rayudu', 'KL Rahul', 'R Pant', 'MS Dhoni', 'V Shankar', 'Kuldeep Yadav',\n",
    "           'S Kaul', 'B Kumar', 'Mohammed Shami', 'JJ Bumrah', 'Y Chahal', 'RA Jadeja' ]\n",
    "\n",
    "aus_team = ['AJ Finch', 'A Carey', 'UT Khawaja', 'SE Marsh', 'DA Short', 'PSP Handscomb', 'M Stoinis', 'GJ Maxwell', 'KW Richardson',\n",
    "        'NM Coulter-Nile', 'J Behrendorff', 'NM Lyon', 'A Zampa']"
   ]
  },
  {
   "cell_type": "markdown",
   "metadata": {},
   "source": [
    "## Function get_info_from_delivery() extracts desired data from a delivery record"
   ]
  },
  {
   "cell_type": "code",
   "execution_count": 2,
   "metadata": {
    "ExecuteTime": {
     "end_time": "2019-02-26T16:26:32.335466Z",
     "start_time": "2019-02-26T16:26:32.325335Z"
    },
    "init_cell": true
   },
   "outputs": [],
   "source": [
    "def get_info_from_delivery(rows, yamlfile):\n",
    "    tmp_list = []\n",
    "    for row in rows:\n",
    "        for ball_counter, val in row.items():\n",
    "            tmp_dict = {}\n",
    "            tmp_dict['filename'] = yamlfile\n",
    "            tmp_dict['batsman']=val['batsman']\n",
    "            tmp_dict['bowler']=val['bowler']\n",
    "            tmp_dict['runs']=val['runs']['batsman']\n",
    "            \n",
    "            for key in val.keys():\n",
    "                if (key == 'wicket'):\n",
    "                    tmp_dict['wicket_type'] = val['wicket']['kind']\n",
    "                    for w_key in val['wicket'].keys():\n",
    "                        if (w_key == 'fielders'):\n",
    "                            tmp_dict['fielder'] = val['wicket']['fielders'][0]\n",
    "                    tmp_dict['player_out']=val['wicket']['player_out']\n",
    "            tmp_list.append(tmp_dict)\n",
    "    return(tmp_list)"
   ]
  },
  {
   "cell_type": "markdown",
   "metadata": {
    "ExecuteTime": {
     "end_time": "2019-02-25T16:27:43.783852Z",
     "start_time": "2019-02-25T16:27:43.779863Z"
    }
   },
   "source": [
    "## Parse all YAML files and build custom dictionary with fields of interest to be used as initializer for dataframe. Filename is included in dictionary for traceability.\n",
    "\n",
    "### ODI match data from 2008 and later have been used. Other data is discarded."
   ]
  },
  {
   "cell_type": "code",
   "execution_count": 3,
   "metadata": {
    "ExecuteTime": {
     "end_time": "2019-02-26T16:26:51.529220Z",
     "start_time": "2019-02-26T16:26:32.338456Z"
    },
    "init_cell": true
   },
   "outputs": [
    {
     "name": "stdout",
     "output_type": "stream",
     "text": [
      "Fetching data from:  Datafiles\\IND-AUS\\415281.yaml\n",
      "Fetching data from:  Datafiles\\IND-AUS\\416236.yaml\n",
      "Fetching data from:  Datafiles\\IND-AUS\\416236.yaml\n",
      "Fetching data from:  Datafiles\\IND-AUS\\416237.yaml\n",
      "Fetching data from:  Datafiles\\IND-AUS\\416237.yaml\n",
      "Fetching data from:  Datafiles\\IND-AUS\\416238.yaml\n",
      "Fetching data from:  Datafiles\\IND-AUS\\416238.yaml\n",
      "Fetching data from:  Datafiles\\IND-AUS\\416239.yaml\n",
      "Fetching data from:  Datafiles\\IND-AUS\\416239.yaml\n",
      "Fetching data from:  Datafiles\\IND-AUS\\416240.yaml\n",
      "Fetching data from:  Datafiles\\IND-AUS\\416240.yaml\n",
      "Fetching data from:  Datafiles\\IND-AUS\\416241.yaml\n",
      "Fetching data from:  Datafiles\\IND-AUS\\416241.yaml\n",
      "Fetching data from:  Datafiles\\IND-AUS\\433601.yaml\n",
      "Fetching data from:  Datafiles\\IND-AUS\\433601.yaml\n",
      "Fetching data from:  Datafiles\\IND-AUS\\464529.yaml\n",
      "Fetching data from:  Datafiles\\IND-AUS\\464529.yaml\n",
      "Fetching data from:  Datafiles\\IND-AUS\\518956.yaml\n",
      "Fetching data from:  Datafiles\\IND-AUS\\518956.yaml\n",
      "Fetching data from:  Datafiles\\IND-AUS\\518957.yaml\n",
      "Fetching data from:  Datafiles\\IND-AUS\\518957.yaml\n",
      "Fetching data from:  Datafiles\\IND-AUS\\518959.yaml\n",
      "Fetching data from:  Datafiles\\IND-AUS\\518959.yaml\n",
      "Fetching data from:  Datafiles\\IND-AUS\\518962.yaml\n",
      "Fetching data from:  Datafiles\\IND-AUS\\518962.yaml\n",
      "Fetching data from:  Datafiles\\IND-AUS\\518965.yaml\n",
      "Fetching data from:  Datafiles\\IND-AUS\\518965.yaml\n",
      "Fetching data from:  Datafiles\\IND-AUS\\647249.yaml\n",
      "Fetching data from:  Datafiles\\IND-AUS\\647249.yaml\n",
      "Fetching data from:  Datafiles\\IND-AUS\\647251.yaml\n",
      "Fetching data from:  Datafiles\\IND-AUS\\647251.yaml\n",
      "Fetching data from:  Datafiles\\IND-AUS\\647253.yaml\n",
      "Fetching data from:  Datafiles\\IND-AUS\\647253.yaml\n",
      "Fetching data from:  Datafiles\\IND-AUS\\647255.yaml\n",
      "Fetching data from:  Datafiles\\IND-AUS\\647255.yaml\n",
      "Fetching data from:  Datafiles\\IND-AUS\\647259.yaml\n",
      "Fetching data from:  Datafiles\\IND-AUS\\647259.yaml\n",
      "Fetching data from:  Datafiles\\IND-AUS\\647261.yaml\n",
      "Fetching data from:  Datafiles\\IND-AUS\\647261.yaml\n",
      "Fetching data from:  Datafiles\\IND-AUS\\656439.yaml\n",
      "Fetching data from:  Datafiles\\IND-AUS\\656439.yaml\n",
      "Fetching data from:  Datafiles\\IND-AUS\\656453.yaml\n",
      "Fetching data from:  Datafiles\\IND-AUS\\656453.yaml\n",
      "Fetching data from:  Datafiles\\IND-AUS\\656493.yaml\n",
      "Fetching data from:  Datafiles\\IND-AUS\\656493.yaml\n",
      "Fetching data from:  Datafiles\\IND-AUS\\754749.yaml\n",
      "Fetching data from:  Datafiles\\IND-AUS\\754749.yaml\n",
      "Fetching data from:  Datafiles\\IND-AUS\\754757.yaml\n",
      "Fetching data from:  Datafiles\\IND-AUS\\895807.yaml\n",
      "Fetching data from:  Datafiles\\IND-AUS\\895807.yaml\n",
      "Fetching data from:  Datafiles\\IND-AUS\\895809.yaml\n",
      "Fetching data from:  Datafiles\\IND-AUS\\895809.yaml\n",
      "Fetching data from:  Datafiles\\IND-AUS\\895811.yaml\n",
      "Fetching data from:  Datafiles\\IND-AUS\\895811.yaml\n",
      "Fetching data from:  Datafiles\\IND-AUS\\895813.yaml\n",
      "Fetching data from:  Datafiles\\IND-AUS\\895813.yaml\n",
      "Fetching data from:  Datafiles\\IND-AUS\\895815.yaml\n",
      "Fetching data from:  Datafiles\\IND-AUS\\895815.yaml\n",
      "\n",
      "\n",
      "Following files were not used\n",
      "\n",
      "Datafiles\\IND-AUS\\1062573.yaml: Match type: Test\n",
      "Datafiles\\IND-AUS\\1062574.yaml: Match type: Test\n",
      "Datafiles\\IND-AUS\\1062575.yaml: Match type: Test\n",
      "Datafiles\\IND-AUS\\1062576.yaml: Match type: Test\n",
      "Datafiles\\IND-AUS\\1085967.yaml: Female team\n",
      "Datafiles\\IND-AUS\\249756.yaml: Invalid year: 2006\n",
      "Datafiles\\IND-AUS\\256608.yaml: Invalid year: 2006\n",
      "Datafiles\\IND-AUS\\256614.yaml: Invalid year: 2006\n",
      "Datafiles\\IND-AUS\\287878.yaml: Invalid year: 2007\n",
      "Datafiles\\IND-AUS\\291352.yaml: Invalid year: 2008\n",
      "Datafiles\\IND-AUS\\291353.yaml: Invalid year: 2008\n",
      "Datafiles\\IND-AUS\\291354.yaml: Invalid year: 2008\n",
      "Datafiles\\IND-AUS\\291356.yaml: Invalid year: 2008\n",
      "Datafiles\\IND-AUS\\291359.yaml: Invalid year: 2008\n",
      "Datafiles\\IND-AUS\\291362.yaml: Invalid year: 2008\n",
      "Datafiles\\IND-AUS\\291365.yaml: Invalid year: 2008\n",
      "Datafiles\\IND-AUS\\291368.yaml: Invalid year: 2008\n",
      "Datafiles\\IND-AUS\\291371.yaml: Invalid year: 2008\n",
      "Datafiles\\IND-AUS\\291372.yaml: Invalid year: 2008\n",
      "Datafiles\\IND-AUS\\297793.yaml: Invalid year: 2007\n",
      "Datafiles\\IND-AUS\\297794.yaml: Invalid year: 2007\n",
      "Datafiles\\IND-AUS\\297795.yaml: Invalid year: 2007\n",
      "Datafiles\\IND-AUS\\297796.yaml: Invalid year: 2007\n",
      "Datafiles\\IND-AUS\\297797.yaml: Invalid year: 2007\n",
      "Datafiles\\IND-AUS\\297798.yaml: Invalid year: 2007\n",
      "Datafiles\\IND-AUS\\297799.yaml: Invalid year: 2007\n",
      "Datafiles\\IND-AUS\\297800.yaml: Invalid year: 2007\n",
      "Datafiles\\IND-AUS\\345669.yaml: Invalid year: 2008\n",
      "Datafiles\\IND-AUS\\345670.yaml: Invalid year: 2008\n",
      "Datafiles\\IND-AUS\\345671.yaml: Invalid year: 2008\n",
      "Datafiles\\IND-AUS\\345672.yaml: Invalid year: 2008\n",
      "Datafiles\\IND-AUS\\412691.yaml: Match type: T20\n",
      "Datafiles\\IND-AUS\\412716.yaml: Match type: T20\n",
      "Datafiles\\IND-AUS\\464526.yaml: Match type: Test\n",
      "Datafiles\\IND-AUS\\464527.yaml: Match type: Test\n",
      "Datafiles\\IND-AUS\\518950.yaml: Match type: Test\n",
      "Datafiles\\IND-AUS\\518951.yaml: Match type: Test\n",
      "Datafiles\\IND-AUS\\518952.yaml: Match type: Test\n",
      "Datafiles\\IND-AUS\\518953.yaml: Match type: Test\n",
      "Datafiles\\IND-AUS\\518954.yaml: Match type: T20\n",
      "Datafiles\\IND-AUS\\518955.yaml: Match type: T20\n",
      "Datafiles\\IND-AUS\\533287.yaml: Match type: T20\n",
      "Datafiles\\IND-AUS\\533302.yaml: Match type: T20\n",
      "Datafiles\\IND-AUS\\598812.yaml: Match type: Test\n",
      "Datafiles\\IND-AUS\\598813.yaml: Match type: Test\n",
      "Datafiles\\IND-AUS\\598814.yaml: Match type: Test\n",
      "Datafiles\\IND-AUS\\598815.yaml: Match type: Test\n",
      "Datafiles\\IND-AUS\\647247.yaml: Match type: T20\n",
      "Datafiles\\IND-AUS\\682951.yaml: Match type: T20\n",
      "Datafiles\\IND-AUS\\754737.yaml: Match type: Test\n",
      "Datafiles\\IND-AUS\\754739.yaml: Match type: Test\n",
      "Datafiles\\IND-AUS\\754741.yaml: Match type: Test\n",
      "Datafiles\\IND-AUS\\754743.yaml: Match type: Test\n",
      "Datafiles\\IND-AUS\\895789.yaml: Match type: T20\n",
      "Datafiles\\IND-AUS\\895791.yaml: Match type: T20\n",
      "Datafiles\\IND-AUS\\895797.yaml: Female team\n",
      "Datafiles\\IND-AUS\\895817.yaml: Match type: T20\n",
      "Datafiles\\IND-AUS\\895819.yaml: Match type: T20\n",
      "Datafiles\\IND-AUS\\895821.yaml: Match type: T20\n",
      "Datafiles\\IND-AUS\\951363.yaml: Match type: T20\n"
     ]
    }
   ],
   "source": [
    "player_df_init_list = []\n",
    "winner_df_init_list = []\n",
    "unused_files = []\n",
    "\n",
    "#p=Path(r'/home/ec2-user/UpGrad_IPL/Datafiles/IND-AUS')\n",
    "p=Path(r'./Datafiles/IND-AUS')\n",
    "\n",
    "filelist = list(p.glob( \"**/*.yaml\" ))\n",
    "\n",
    "yaml=YAML(typ='safe')\n",
    "\n",
    "for yamlfile in filelist:\n",
    "    datafile = open(yamlfile, 'r')\n",
    "    mydict=yaml.load(datafile)\n",
    "    if ( mydict['info']['dates'][0].year > 2008 ):\n",
    "        if ( mydict['info']['match_type'] == 'ODI' ):\n",
    "            if ( mydict['info']['gender'] == 'male' ):\n",
    "                if (len(mydict['innings']) > 0):\n",
    "                    if ( 'result' not in mydict['info']['outcome'].keys() ):\n",
    "                        tmp_dict = {}\n",
    "                        tmp_dict['country'] = mydict['info']['outcome']['winner']\n",
    "                        winner_df_init_list.append(tmp_dict)\n",
    "                    for inn in mydict['innings']:\n",
    "                        idx = 0\n",
    "                        for inn_key in ['1st innings', '2nd innings']:\n",
    "                            if (inn_key in inn.keys()):\n",
    "                                print('Fetching data from: ', str( yamlfile ) )\n",
    "                                player_df_init_list += get_info_from_delivery( inn[inn_key]['deliveries'], str( yamlfile.name ) )\n",
    "                            idx += 1\n",
    "                else:\n",
    "                    unused_files.append( str(yamlfile) + ': No innings data' )\n",
    "            else:\n",
    "                unused_files.append( str(yamlfile) + ': Female team' )\n",
    "        else:\n",
    "            unused_files.append( str(yamlfile) + ': Match type: ' + mydict['info']['match_type'] )\n",
    "    else:\n",
    "        unused_files.append( str(yamlfile) + ': Invalid year: ' + str( mydict['info']['dates'][0].year ) )\n",
    "\n",
    "print('\\n\\nFollowing files were not used\\n')\n",
    "print(*unused_files, sep='\\n')"
   ]
  },
  {
   "cell_type": "markdown",
   "metadata": {},
   "source": [
    "## Replace '( sub )' in player names. In data files, it has been used to indicate substitute."
   ]
  },
  {
   "cell_type": "code",
   "execution_count": 4,
   "metadata": {
    "ExecuteTime": {
     "end_time": "2019-02-26T16:26:51.839400Z",
     "start_time": "2019-02-26T16:26:51.535202Z"
    },
    "init_cell": true
   },
   "outputs": [],
   "source": [
    "tmp_df = pd.DataFrame(player_df_init_list)\n",
    "tmp_df['fielder'].replace(to_replace='([\\a\\.\\ ]*)( \\(sub\\))', value=r'\\1', regex=True, inplace=True)\n",
    "tmp_df['batsman'].replace(to_replace='([\\a\\.\\ ]*)( \\(sub\\))', value=r'\\1', regex=True, inplace=True)\n",
    "tmp_df['bowler'].replace(to_replace='([\\a\\.\\ ]*)( \\(sub\\))', value=r'\\1', regex=True, inplace=True)\n",
    "tmp_df['player_out'].replace(to_replace='([\\a\\.\\ ]*)( \\(sub\\))', value=r'\\1', regex=True, inplace=True)"
   ]
  },
  {
   "cell_type": "markdown",
   "metadata": {},
   "source": [
    "## Check data frame looks OK"
   ]
  },
  {
   "cell_type": "code",
   "execution_count": 101,
   "metadata": {
    "ExecuteTime": {
     "end_time": "2019-02-26T16:23:01.448381Z",
     "start_time": "2019-02-26T16:23:01.432172Z"
    }
   },
   "outputs": [
    {
     "name": "stdout",
     "output_type": "stream",
     "text": [
      "<class 'pandas.core.frame.DataFrame'>\n",
      "RangeIndex: 16290 entries, 0 to 16289\n",
      "Data columns (total 7 columns):\n",
      "batsman        16290 non-null object\n",
      "bowler         16290 non-null object\n",
      "fielder        280 non-null object\n",
      "filename       16290 non-null object\n",
      "player_out     384 non-null object\n",
      "runs           16290 non-null int64\n",
      "wicket_type    384 non-null object\n",
      "dtypes: int64(1), object(6)\n",
      "memory usage: 890.9+ KB\n"
     ]
    }
   ],
   "source": [
    "tmp_df.info()"
   ]
  },
  {
   "cell_type": "markdown",
   "metadata": {},
   "source": [
    "## Create run rate dataframe for batsmen"
   ]
  },
  {
   "cell_type": "code",
   "execution_count": 5,
   "metadata": {
    "ExecuteTime": {
     "end_time": "2019-02-26T16:26:51.909214Z",
     "start_time": "2019-02-26T16:26:51.841390Z"
    },
    "init_cell": true
   },
   "outputs": [],
   "source": [
    "batsman_df = tmp_df.groupby(['batsman', 'filename']).sum().sort_values(by=['batsman', 'filename']).reset_index() \\\n",
    "    .groupby(['batsman'])['runs'].agg([np.mean, np.size, np.sum]).reset_index()\\\n",
    "    .sort_values(by=['mean', 'size'], ascending=False)\\\n",
    "    .rename(columns={'sum':'score','size':'match_count', 'mean':'average_runs_per_match'})"
   ]
  },
  {
   "cell_type": "markdown",
   "metadata": {},
   "source": [
    "## Create wicket taker data frame for bowlers"
   ]
  },
  {
   "cell_type": "code",
   "execution_count": 6,
   "metadata": {
    "ExecuteTime": {
     "end_time": "2019-02-26T16:26:51.978156Z",
     "start_time": "2019-02-26T16:26:51.912202Z"
    },
    "init_cell": true
   },
   "outputs": [],
   "source": [
    "bowler_df = tmp_df[ ~tmp_df['player_out'].isnull() & tmp_df['fielder'].isnull() ].groupby(['bowler', 'filename'])\\\n",
    "    ['batsman'].agg(np.size).reset_index()\\\n",
    "    .groupby(['bowler'])['batsman'].agg([ np.mean, np.size, np.sum ]).reset_index()\\\n",
    "    .sort_values(by=['mean', 'size'], ascending=False).rename(columns={'size':'match_count', 'sum':'wickets', 'mean':'avg_wkt_per_match'})"
   ]
  },
  {
   "cell_type": "markdown",
   "metadata": {},
   "source": [
    "## Create wicket taker data frame for fielders"
   ]
  },
  {
   "cell_type": "code",
   "execution_count": 104,
   "metadata": {
    "ExecuteTime": {
     "end_time": "2019-02-26T16:23:01.523499Z",
     "start_time": "2019-02-26T16:23:01.504667Z"
    }
   },
   "outputs": [],
   "source": [
    "fielder_df = tmp_df[ ~(tmp_df['player_out'].isnull() & tmp_df['fielder'].isnull()) ].groupby(['fielder', 'filename'])\\\n",
    "    ['batsman'].agg(np.size).reset_index()\\\n",
    "    .groupby(['fielder'])['batsman'].agg([ np.mean, np.size, np.sum ]).reset_index()\\\n",
    "    .sort_values(by=['mean', 'sum'], ascending=False).rename(columns={'size':'match_count', 'sum':'wickets', 'mean':'avg_wkt_per_match'})"
   ]
  },
  {
   "cell_type": "markdown",
   "metadata": {},
   "source": [
    "## Check highest average score for batsmen in 2019 IND/AUS teams where matches played by batsman is more than average numbers of matches played. This ensures consistency in performance is accounted for. "
   ]
  },
  {
   "cell_type": "code",
   "execution_count": 105,
   "metadata": {
    "ExecuteTime": {
     "end_time": "2019-02-26T16:23:01.539953Z",
     "start_time": "2019-02-26T16:23:01.527528Z"
    }
   },
   "outputs": [
    {
     "data": {
      "text/html": [
       "<div>\n",
       "<style scoped>\n",
       "    .dataframe tbody tr th:only-of-type {\n",
       "        vertical-align: middle;\n",
       "    }\n",
       "\n",
       "    .dataframe tbody tr th {\n",
       "        vertical-align: top;\n",
       "    }\n",
       "\n",
       "    .dataframe thead th {\n",
       "        text-align: right;\n",
       "    }\n",
       "</style>\n",
       "<table border=\"1\" class=\"dataframe\">\n",
       "  <thead>\n",
       "    <tr style=\"text-align: right;\">\n",
       "      <th></th>\n",
       "      <th>batsman</th>\n",
       "      <th>average_runs_per_match</th>\n",
       "      <th>match_count</th>\n",
       "      <th>score</th>\n",
       "    </tr>\n",
       "  </thead>\n",
       "  <tbody>\n",
       "    <tr>\n",
       "      <th>94</th>\n",
       "      <td>V Kohli</td>\n",
       "      <td>47.708333</td>\n",
       "      <td>24</td>\n",
       "      <td>1145</td>\n",
       "    </tr>\n",
       "    <tr>\n",
       "      <th>4</th>\n",
       "      <td>AJ Finch</td>\n",
       "      <td>44.615385</td>\n",
       "      <td>13</td>\n",
       "      <td>580</td>\n",
       "    </tr>\n",
       "    <tr>\n",
       "      <th>31</th>\n",
       "      <td>GJ Maxwell</td>\n",
       "      <td>38.333333</td>\n",
       "      <td>12</td>\n",
       "      <td>460</td>\n",
       "    </tr>\n",
       "    <tr>\n",
       "      <th>81</th>\n",
       "      <td>S Dhawan</td>\n",
       "      <td>38.176471</td>\n",
       "      <td>17</td>\n",
       "      <td>649</td>\n",
       "    </tr>\n",
       "    <tr>\n",
       "      <th>60</th>\n",
       "      <td>MS Dhoni</td>\n",
       "      <td>35.960000</td>\n",
       "      <td>25</td>\n",
       "      <td>899</td>\n",
       "    </tr>\n",
       "  </tbody>\n",
       "</table>\n",
       "</div>"
      ],
      "text/plain": [
       "       batsman  average_runs_per_match  match_count  score\n",
       "94     V Kohli               47.708333           24   1145\n",
       "4     AJ Finch               44.615385           13    580\n",
       "31  GJ Maxwell               38.333333           12    460\n",
       "81    S Dhawan               38.176471           17    649\n",
       "60    MS Dhoni               35.960000           25    899"
      ]
     },
     "execution_count": 105,
     "metadata": {},
     "output_type": "execute_result"
    }
   ],
   "source": [
    "batsman_df[ batsman_df['batsman'].isin( india_team + aus_team ) &\\\n",
    "           ( batsman_df['match_count'] > batsman_df['match_count'].mean() ) ].head()"
   ]
  },
  {
   "cell_type": "markdown",
   "metadata": {},
   "source": [
    "## Check highest average score for bowlers in 2019 IND/AUS teams where matches played by bowler is more than average numbers of matches played. This ensures consistency in performance is accounted for. "
   ]
  },
  {
   "cell_type": "code",
   "execution_count": 106,
   "metadata": {
    "ExecuteTime": {
     "end_time": "2019-02-26T16:23:01.555298Z",
     "start_time": "2019-02-26T16:23:01.543935Z"
    }
   },
   "outputs": [
    {
     "data": {
      "text/html": [
       "<div>\n",
       "<style scoped>\n",
       "    .dataframe tbody tr th:only-of-type {\n",
       "        vertical-align: middle;\n",
       "    }\n",
       "\n",
       "    .dataframe tbody tr th {\n",
       "        vertical-align: top;\n",
       "    }\n",
       "\n",
       "    .dataframe thead th {\n",
       "        text-align: right;\n",
       "    }\n",
       "</style>\n",
       "<table border=\"1\" class=\"dataframe\">\n",
       "  <thead>\n",
       "    <tr style=\"text-align: right;\">\n",
       "      <th></th>\n",
       "      <th>bowler</th>\n",
       "      <th>avg_wkt_per_match</th>\n",
       "      <th>match_count</th>\n",
       "      <th>wickets</th>\n",
       "    </tr>\n",
       "  </thead>\n",
       "  <tbody>\n",
       "    <tr>\n",
       "      <th>19</th>\n",
       "      <td>Mohammed Shami</td>\n",
       "      <td>1.666667</td>\n",
       "      <td>3</td>\n",
       "      <td>5</td>\n",
       "    </tr>\n",
       "    <tr>\n",
       "      <th>26</th>\n",
       "      <td>RA Jadeja</td>\n",
       "      <td>1.285714</td>\n",
       "      <td>7</td>\n",
       "      <td>9</td>\n",
       "    </tr>\n",
       "  </tbody>\n",
       "</table>\n",
       "</div>"
      ],
      "text/plain": [
       "            bowler  avg_wkt_per_match  match_count  wickets\n",
       "19  Mohammed Shami           1.666667            3        5\n",
       "26       RA Jadeja           1.285714            7        9"
      ]
     },
     "execution_count": 106,
     "metadata": {},
     "output_type": "execute_result"
    }
   ],
   "source": [
    "bowler_df[ bowler_df['bowler'].isin(aus_team + india_team) &\\\n",
    "           ( bowler_df['match_count'] > bowler_df['match_count'].mean() ) ].head()"
   ]
  },
  {
   "cell_type": "markdown",
   "metadata": {},
   "source": [
    "## Check highest average score for fielders in 2019 IND/AUS teams where matches played by fielder is more than average numbers of matches played. This ensures consistency in performance is accounted for. "
   ]
  },
  {
   "cell_type": "code",
   "execution_count": 107,
   "metadata": {
    "ExecuteTime": {
     "end_time": "2019-02-26T16:23:01.571493Z",
     "start_time": "2019-02-26T16:23:01.559300Z"
    }
   },
   "outputs": [
    {
     "data": {
      "text/html": [
       "<div>\n",
       "<style scoped>\n",
       "    .dataframe tbody tr th:only-of-type {\n",
       "        vertical-align: middle;\n",
       "    }\n",
       "\n",
       "    .dataframe tbody tr th {\n",
       "        vertical-align: top;\n",
       "    }\n",
       "\n",
       "    .dataframe thead th {\n",
       "        text-align: right;\n",
       "    }\n",
       "</style>\n",
       "<table border=\"1\" class=\"dataframe\">\n",
       "  <thead>\n",
       "    <tr style=\"text-align: right;\">\n",
       "      <th></th>\n",
       "      <th>fielder</th>\n",
       "      <th>avg_wkt_per_match</th>\n",
       "      <th>match_count</th>\n",
       "      <th>wickets</th>\n",
       "    </tr>\n",
       "  </thead>\n",
       "  <tbody>\n",
       "    <tr>\n",
       "      <th>38</th>\n",
       "      <td>MS Dhoni</td>\n",
       "      <td>1.866667</td>\n",
       "      <td>15</td>\n",
       "      <td>28</td>\n",
       "    </tr>\n",
       "    <tr>\n",
       "      <th>18</th>\n",
       "      <td>GJ Maxwell</td>\n",
       "      <td>1.600000</td>\n",
       "      <td>5</td>\n",
       "      <td>8</td>\n",
       "    </tr>\n",
       "    <tr>\n",
       "      <th>67</th>\n",
       "      <td>V Kohli</td>\n",
       "      <td>1.214286</td>\n",
       "      <td>14</td>\n",
       "      <td>17</td>\n",
       "    </tr>\n",
       "    <tr>\n",
       "      <th>55</th>\n",
       "      <td>S Dhawan</td>\n",
       "      <td>1.142857</td>\n",
       "      <td>7</td>\n",
       "      <td>8</td>\n",
       "    </tr>\n",
       "    <tr>\n",
       "      <th>50</th>\n",
       "      <td>RA Jadeja</td>\n",
       "      <td>1.125000</td>\n",
       "      <td>8</td>\n",
       "      <td>9</td>\n",
       "    </tr>\n",
       "  </tbody>\n",
       "</table>\n",
       "</div>"
      ],
      "text/plain": [
       "       fielder  avg_wkt_per_match  match_count  wickets\n",
       "38    MS Dhoni           1.866667           15       28\n",
       "18  GJ Maxwell           1.600000            5        8\n",
       "67     V Kohli           1.214286           14       17\n",
       "55    S Dhawan           1.142857            7        8\n",
       "50   RA Jadeja           1.125000            8        9"
      ]
     },
     "execution_count": 107,
     "metadata": {},
     "output_type": "execute_result"
    }
   ],
   "source": [
    "fielder_df[ fielder_df['fielder'].isin(aus_team + india_team) &\\\n",
    "           ( fielder_df['match_count'] > fielder_df['match_count'].mean() ) ].head()"
   ]
  },
  {
   "cell_type": "markdown",
   "metadata": {},
   "source": [
    "## Create dataframe for match winners"
   ]
  },
  {
   "cell_type": "code",
   "execution_count": 108,
   "metadata": {
    "ExecuteTime": {
     "end_time": "2019-02-26T16:23:01.579756Z",
     "start_time": "2019-02-26T16:23:01.575540Z"
    }
   },
   "outputs": [],
   "source": [
    "match_df = pd.DataFrame(winner_df_init_list)"
   ]
  },
  {
   "cell_type": "markdown",
   "metadata": {},
   "source": [
    "### Compare number of wins by both countries"
   ]
  },
  {
   "cell_type": "code",
   "execution_count": 109,
   "metadata": {
    "ExecuteTime": {
     "end_time": "2019-02-26T16:23:01.593812Z",
     "start_time": "2019-02-26T16:23:01.583869Z"
    }
   },
   "outputs": [
    {
     "data": {
      "text/html": [
       "<div>\n",
       "<style scoped>\n",
       "    .dataframe tbody tr th:only-of-type {\n",
       "        vertical-align: middle;\n",
       "    }\n",
       "\n",
       "    .dataframe tbody tr th {\n",
       "        vertical-align: top;\n",
       "    }\n",
       "\n",
       "    .dataframe thead th {\n",
       "        text-align: right;\n",
       "    }\n",
       "</style>\n",
       "<table border=\"1\" class=\"dataframe\">\n",
       "  <thead>\n",
       "    <tr style=\"text-align: right;\">\n",
       "      <th></th>\n",
       "      <th>country</th>\n",
       "      <th>0</th>\n",
       "    </tr>\n",
       "  </thead>\n",
       "  <tbody>\n",
       "    <tr>\n",
       "      <th>0</th>\n",
       "      <td>Australia</td>\n",
       "      <td>15</td>\n",
       "    </tr>\n",
       "    <tr>\n",
       "      <th>1</th>\n",
       "      <td>India</td>\n",
       "      <td>12</td>\n",
       "    </tr>\n",
       "  </tbody>\n",
       "</table>\n",
       "</div>"
      ],
      "text/plain": [
       "     country   0\n",
       "0  Australia  15\n",
       "1      India  12"
      ]
     },
     "execution_count": 109,
     "metadata": {},
     "output_type": "execute_result"
    }
   ],
   "source": [
    "match_df.groupby('country').size().reset_index()"
   ]
  },
  {
   "cell_type": "code",
   "execution_count": null,
   "metadata": {},
   "outputs": [],
   "source": []
  }
 ],
 "metadata": {
  "celltoolbar": "Initialization Cell",
  "hide_input": false,
  "kernelspec": {
   "display_name": "Python 3",
   "language": "python",
   "name": "python3"
  },
  "language_info": {
   "codemirror_mode": {
    "name": "ipython",
    "version": 3
   },
   "file_extension": ".py",
   "mimetype": "text/x-python",
   "name": "python",
   "nbconvert_exporter": "python",
   "pygments_lexer": "ipython3",
   "version": "3.7.2"
  },
  "toc": {
   "base_numbering": 1,
   "nav_menu": {},
   "number_sections": true,
   "sideBar": true,
   "skip_h1_title": false,
   "title_cell": "Table of Contents",
   "title_sidebar": "Contents",
   "toc_cell": false,
   "toc_position": {},
   "toc_section_display": true,
   "toc_window_display": false
  }
 },
 "nbformat": 4,
 "nbformat_minor": 2
}
