{
 "cells": [
  {
   "cell_type": "markdown",
   "metadata": {
    "ExecuteTime": {
     "end_time": "2019-02-26T15:59:10.550916Z",
     "start_time": "2019-02-26T15:59:10.545050Z"
    }
   },
   "source": [
    "## Data files used below are sourced from\n",
    "https://cricsheet.org/downloads/india.zip\n",
    "    \n",
    "manually filtered for IND-AUS matches"
   ]
  },
  {
   "cell_type": "code",
   "execution_count": 176,
   "metadata": {
    "ExecuteTime": {
     "end_time": "2019-02-26T16:05:34.774113Z",
     "start_time": "2019-02-26T16:05:34.768100Z"
    },
    "init_cell": true
   },
   "outputs": [],
   "source": [
    "from ruamel.yaml import YAML\n",
    "import pandas as pd\n",
    "import numpy as np\n",
    "import os, glob\n",
    "from pathlib import Path\n",
    "\n",
    "# Team data sourced from https://www.cricbuzz.com/cricket-series/2773/australia-tour-of-india-2019/squads\n",
    "india_team = ['R Sharma', 'S Dhawan', 'V Kohli', 'AT Rayudu', 'KL Rahul', 'R Pant', 'MS Dhoni', 'V Shankar', 'Kuldeep Yadav',\n",
    "           'S Kaul', 'B Kumar', 'Mohammed Shami', 'JJ Bumrah', 'Y Chahal', 'RA Jadeja' ]\n",
    "\n",
    "aus_team = ['AJ Finch', 'A Carey', 'UT Khawaja', 'SE Marsh', 'DA Short', 'PSP Handscomb', 'M Stoinis', 'GJ Maxwell', 'KW Richardson',\n",
    "        'NM Coulter-Nile', 'J Behrendorff', 'NM Lyon', 'A Zampa']"
   ]
  },
  {
   "cell_type": "markdown",
   "metadata": {},
   "source": [
    "## Function get_info_from_delivery() extracts desired data from a delivery record"
   ]
  },
  {
   "cell_type": "code",
   "execution_count": 177,
   "metadata": {
    "ExecuteTime": {
     "end_time": "2019-02-26T16:05:34.842899Z",
     "start_time": "2019-02-26T16:05:34.831928Z"
    },
    "init_cell": true
   },
   "outputs": [],
   "source": [
    "def get_info_from_delivery(rows, yamlfile):\n",
    "    tmp_list = []\n",
    "    for row in rows:\n",
    "        for ball_counter, val in row.items():\n",
    "            tmp_dict = {}\n",
    "            tmp_dict['filename'] = yamlfile\n",
    "            tmp_dict['batsman']=val['batsman']\n",
    "            tmp_dict['bowler']=val['bowler']\n",
    "            tmp_dict['runs']=val['runs']['batsman']\n",
    "            \n",
    "            for key in val.keys():\n",
    "                if (key == 'wicket'):\n",
    "                    tmp_dict['wicket_type'] = val['wicket']['kind']\n",
    "                    for w_key in val['wicket'].keys():\n",
    "                        if (w_key == 'fielders'):\n",
    "                            tmp_dict['fielder'] = val['wicket']['fielders'][0]\n",
    "                    tmp_dict['player_out']=val['wicket']['player_out']\n",
    "            tmp_list.append(tmp_dict)\n",
    "    return(tmp_list)"
   ]
  },
  {
   "cell_type": "markdown",
   "metadata": {
    "ExecuteTime": {
     "end_time": "2019-02-25T16:27:43.783852Z",
     "start_time": "2019-02-25T16:27:43.779863Z"
    }
   },
   "source": [
    "## Parse all YAML files and build custom dictionary with fields of interest to be used as initializer for dataframe. Filename is included in dictionary for traceability.\n",
    "\n",
    "### Match data from 2008 and later have been used. Other data is discarded."
   ]
  },
  {
   "cell_type": "code",
   "execution_count": 178,
   "metadata": {
    "ExecuteTime": {
     "end_time": "2019-02-26T16:05:55.690653Z",
     "start_time": "2019-02-26T16:05:34.905730Z"
    },
    "init_cell": true
   },
   "outputs": [
    {
     "name": "stdout",
     "output_type": "stream",
     "text": [
      "Fetching data from:  Datafiles\\IND-AUS\\1062573.yaml\n",
      "Fetching data from:  Datafiles\\IND-AUS\\1062573.yaml\n",
      "Fetching data from:  Datafiles\\IND-AUS\\1062574.yaml\n",
      "Fetching data from:  Datafiles\\IND-AUS\\1062574.yaml\n",
      "Fetching data from:  Datafiles\\IND-AUS\\1062575.yaml\n",
      "Fetching data from:  Datafiles\\IND-AUS\\1062575.yaml\n",
      "Fetching data from:  Datafiles\\IND-AUS\\1062576.yaml\n",
      "Fetching data from:  Datafiles\\IND-AUS\\1062576.yaml\n",
      "Fetching data from:  Datafiles\\IND-AUS\\412691.yaml\n",
      "Fetching data from:  Datafiles\\IND-AUS\\412691.yaml\n",
      "Fetching data from:  Datafiles\\IND-AUS\\415281.yaml\n",
      "Fetching data from:  Datafiles\\IND-AUS\\416236.yaml\n",
      "Fetching data from:  Datafiles\\IND-AUS\\416236.yaml\n",
      "Fetching data from:  Datafiles\\IND-AUS\\416237.yaml\n",
      "Fetching data from:  Datafiles\\IND-AUS\\416237.yaml\n",
      "Fetching data from:  Datafiles\\IND-AUS\\416238.yaml\n",
      "Fetching data from:  Datafiles\\IND-AUS\\416238.yaml\n",
      "Fetching data from:  Datafiles\\IND-AUS\\416239.yaml\n",
      "Fetching data from:  Datafiles\\IND-AUS\\416239.yaml\n",
      "Fetching data from:  Datafiles\\IND-AUS\\416240.yaml\n",
      "Fetching data from:  Datafiles\\IND-AUS\\416240.yaml\n",
      "Fetching data from:  Datafiles\\IND-AUS\\416241.yaml\n",
      "Fetching data from:  Datafiles\\IND-AUS\\416241.yaml\n",
      "Fetching data from:  Datafiles\\IND-AUS\\433601.yaml\n",
      "Fetching data from:  Datafiles\\IND-AUS\\433601.yaml\n",
      "Fetching data from:  Datafiles\\IND-AUS\\464526.yaml\n",
      "Fetching data from:  Datafiles\\IND-AUS\\464526.yaml\n",
      "Fetching data from:  Datafiles\\IND-AUS\\464527.yaml\n",
      "Fetching data from:  Datafiles\\IND-AUS\\464527.yaml\n",
      "Fetching data from:  Datafiles\\IND-AUS\\464529.yaml\n",
      "Fetching data from:  Datafiles\\IND-AUS\\464529.yaml\n",
      "Fetching data from:  Datafiles\\IND-AUS\\518950.yaml\n",
      "Fetching data from:  Datafiles\\IND-AUS\\518950.yaml\n",
      "Fetching data from:  Datafiles\\IND-AUS\\518951.yaml\n",
      "Fetching data from:  Datafiles\\IND-AUS\\518951.yaml\n",
      "Fetching data from:  Datafiles\\IND-AUS\\518952.yaml\n",
      "Fetching data from:  Datafiles\\IND-AUS\\518952.yaml\n",
      "Fetching data from:  Datafiles\\IND-AUS\\518953.yaml\n",
      "Fetching data from:  Datafiles\\IND-AUS\\518953.yaml\n",
      "Fetching data from:  Datafiles\\IND-AUS\\518954.yaml\n",
      "Fetching data from:  Datafiles\\IND-AUS\\518954.yaml\n",
      "Fetching data from:  Datafiles\\IND-AUS\\518955.yaml\n",
      "Fetching data from:  Datafiles\\IND-AUS\\518955.yaml\n",
      "Fetching data from:  Datafiles\\IND-AUS\\518956.yaml\n",
      "Fetching data from:  Datafiles\\IND-AUS\\518956.yaml\n",
      "Fetching data from:  Datafiles\\IND-AUS\\518957.yaml\n",
      "Fetching data from:  Datafiles\\IND-AUS\\518957.yaml\n",
      "Fetching data from:  Datafiles\\IND-AUS\\518959.yaml\n",
      "Fetching data from:  Datafiles\\IND-AUS\\518959.yaml\n",
      "Fetching data from:  Datafiles\\IND-AUS\\518962.yaml\n",
      "Fetching data from:  Datafiles\\IND-AUS\\518962.yaml\n",
      "Fetching data from:  Datafiles\\IND-AUS\\518965.yaml\n",
      "Fetching data from:  Datafiles\\IND-AUS\\518965.yaml\n",
      "Fetching data from:  Datafiles\\IND-AUS\\533287.yaml\n",
      "Fetching data from:  Datafiles\\IND-AUS\\533287.yaml\n",
      "Fetching data from:  Datafiles\\IND-AUS\\598812.yaml\n",
      "Fetching data from:  Datafiles\\IND-AUS\\598812.yaml\n",
      "Fetching data from:  Datafiles\\IND-AUS\\598813.yaml\n",
      "Fetching data from:  Datafiles\\IND-AUS\\598813.yaml\n",
      "Fetching data from:  Datafiles\\IND-AUS\\598814.yaml\n",
      "Fetching data from:  Datafiles\\IND-AUS\\598814.yaml\n",
      "Fetching data from:  Datafiles\\IND-AUS\\598815.yaml\n",
      "Fetching data from:  Datafiles\\IND-AUS\\598815.yaml\n",
      "Fetching data from:  Datafiles\\IND-AUS\\647247.yaml\n",
      "Fetching data from:  Datafiles\\IND-AUS\\647247.yaml\n",
      "Fetching data from:  Datafiles\\IND-AUS\\647249.yaml\n",
      "Fetching data from:  Datafiles\\IND-AUS\\647249.yaml\n",
      "Fetching data from:  Datafiles\\IND-AUS\\647251.yaml\n",
      "Fetching data from:  Datafiles\\IND-AUS\\647251.yaml\n",
      "Fetching data from:  Datafiles\\IND-AUS\\647253.yaml\n",
      "Fetching data from:  Datafiles\\IND-AUS\\647253.yaml\n",
      "Fetching data from:  Datafiles\\IND-AUS\\647255.yaml\n",
      "Fetching data from:  Datafiles\\IND-AUS\\647255.yaml\n",
      "Fetching data from:  Datafiles\\IND-AUS\\647259.yaml\n",
      "Fetching data from:  Datafiles\\IND-AUS\\647259.yaml\n",
      "Fetching data from:  Datafiles\\IND-AUS\\647261.yaml\n",
      "Fetching data from:  Datafiles\\IND-AUS\\647261.yaml\n",
      "Fetching data from:  Datafiles\\IND-AUS\\656439.yaml\n",
      "Fetching data from:  Datafiles\\IND-AUS\\656439.yaml\n",
      "Fetching data from:  Datafiles\\IND-AUS\\656453.yaml\n",
      "Fetching data from:  Datafiles\\IND-AUS\\656453.yaml\n",
      "Fetching data from:  Datafiles\\IND-AUS\\656493.yaml\n",
      "Fetching data from:  Datafiles\\IND-AUS\\656493.yaml\n",
      "Fetching data from:  Datafiles\\IND-AUS\\682951.yaml\n",
      "Fetching data from:  Datafiles\\IND-AUS\\682951.yaml\n",
      "Fetching data from:  Datafiles\\IND-AUS\\754737.yaml\n",
      "Fetching data from:  Datafiles\\IND-AUS\\754737.yaml\n",
      "Fetching data from:  Datafiles\\IND-AUS\\754739.yaml\n",
      "Fetching data from:  Datafiles\\IND-AUS\\754739.yaml\n",
      "Fetching data from:  Datafiles\\IND-AUS\\754741.yaml\n",
      "Fetching data from:  Datafiles\\IND-AUS\\754741.yaml\n",
      "Fetching data from:  Datafiles\\IND-AUS\\754743.yaml\n",
      "Fetching data from:  Datafiles\\IND-AUS\\754743.yaml\n",
      "Fetching data from:  Datafiles\\IND-AUS\\754749.yaml\n",
      "Fetching data from:  Datafiles\\IND-AUS\\754749.yaml\n",
      "Fetching data from:  Datafiles\\IND-AUS\\754757.yaml\n",
      "Fetching data from:  Datafiles\\IND-AUS\\895807.yaml\n",
      "Fetching data from:  Datafiles\\IND-AUS\\895807.yaml\n",
      "Fetching data from:  Datafiles\\IND-AUS\\895809.yaml\n",
      "Fetching data from:  Datafiles\\IND-AUS\\895809.yaml\n",
      "Fetching data from:  Datafiles\\IND-AUS\\895811.yaml\n",
      "Fetching data from:  Datafiles\\IND-AUS\\895811.yaml\n",
      "Fetching data from:  Datafiles\\IND-AUS\\895813.yaml\n",
      "Fetching data from:  Datafiles\\IND-AUS\\895813.yaml\n",
      "Fetching data from:  Datafiles\\IND-AUS\\895815.yaml\n",
      "Fetching data from:  Datafiles\\IND-AUS\\895815.yaml\n",
      "Fetching data from:  Datafiles\\IND-AUS\\895817.yaml\n",
      "Fetching data from:  Datafiles\\IND-AUS\\895817.yaml\n",
      "Fetching data from:  Datafiles\\IND-AUS\\895819.yaml\n",
      "Fetching data from:  Datafiles\\IND-AUS\\895819.yaml\n",
      "Fetching data from:  Datafiles\\IND-AUS\\895821.yaml\n",
      "Fetching data from:  Datafiles\\IND-AUS\\895821.yaml\n",
      "Fetching data from:  Datafiles\\IND-AUS\\951363.yaml\n",
      "Fetching data from:  Datafiles\\IND-AUS\\951363.yaml\n",
      "\n",
      "\n",
      "Following files were not used\n",
      "\n",
      "Datafiles\\IND-AUS\\1085967.yaml: Female team\n",
      "Datafiles\\IND-AUS\\249756.yaml: Invalid year: 2006\n",
      "Datafiles\\IND-AUS\\256608.yaml: Invalid year: 2006\n",
      "Datafiles\\IND-AUS\\256614.yaml: Invalid year: 2006\n",
      "Datafiles\\IND-AUS\\287878.yaml: Invalid year: 2007\n",
      "Datafiles\\IND-AUS\\291352.yaml: Invalid year: 2008\n",
      "Datafiles\\IND-AUS\\291353.yaml: Invalid year: 2008\n",
      "Datafiles\\IND-AUS\\291354.yaml: Invalid year: 2008\n",
      "Datafiles\\IND-AUS\\291356.yaml: Invalid year: 2008\n",
      "Datafiles\\IND-AUS\\291359.yaml: Invalid year: 2008\n",
      "Datafiles\\IND-AUS\\291362.yaml: Invalid year: 2008\n",
      "Datafiles\\IND-AUS\\291365.yaml: Invalid year: 2008\n",
      "Datafiles\\IND-AUS\\291368.yaml: Invalid year: 2008\n",
      "Datafiles\\IND-AUS\\291371.yaml: Invalid year: 2008\n",
      "Datafiles\\IND-AUS\\291372.yaml: Invalid year: 2008\n",
      "Datafiles\\IND-AUS\\297793.yaml: Invalid year: 2007\n",
      "Datafiles\\IND-AUS\\297794.yaml: Invalid year: 2007\n",
      "Datafiles\\IND-AUS\\297795.yaml: Invalid year: 2007\n",
      "Datafiles\\IND-AUS\\297796.yaml: Invalid year: 2007\n",
      "Datafiles\\IND-AUS\\297797.yaml: Invalid year: 2007\n",
      "Datafiles\\IND-AUS\\297798.yaml: Invalid year: 2007\n",
      "Datafiles\\IND-AUS\\297799.yaml: Invalid year: 2007\n",
      "Datafiles\\IND-AUS\\297800.yaml: Invalid year: 2007\n",
      "Datafiles\\IND-AUS\\345669.yaml: Invalid year: 2008\n",
      "Datafiles\\IND-AUS\\345670.yaml: Invalid year: 2008\n",
      "Datafiles\\IND-AUS\\345671.yaml: Invalid year: 2008\n",
      "Datafiles\\IND-AUS\\345672.yaml: Invalid year: 2008\n",
      "Datafiles\\IND-AUS\\412716.yaml: Female team\n",
      "Datafiles\\IND-AUS\\533302.yaml: Female team\n",
      "Datafiles\\IND-AUS\\895789.yaml: Female team\n",
      "Datafiles\\IND-AUS\\895791.yaml: Female team\n",
      "Datafiles\\IND-AUS\\895797.yaml: Female team\n"
     ]
    }
   ],
   "source": [
    "player_df_init_list = []\n",
    "winner_df_init_list = []\n",
    "unused_files = []\n",
    "\n",
    "#p=Path(r'/home/ec2-user/UpGrad_IPL/Datafiles/IND-AUS')\n",
    "p=Path(r'./Datafiles/IND-AUS')\n",
    "\n",
    "filelist = list(p.glob( \"**/*.yaml\" ))\n",
    "\n",
    "yaml=YAML(typ='safe')\n",
    "\n",
    "for yamlfile in filelist:\n",
    "    datafile = open(yamlfile, 'r')\n",
    "    mydict=yaml.load(datafile)\n",
    "    if ( mydict['info']['dates'][0].year > 2008 ):\n",
    "        if ( mydict['info']['gender'] == 'male' ):\n",
    "            if (len(mydict['innings']) > 0):\n",
    "                if ( 'result' not in mydict['info']['outcome'].keys() ):\n",
    "                    tmp_dict = {}\n",
    "                    tmp_dict['country'] = mydict['info']['outcome']['winner']\n",
    "                    winner_df_init_list.append(tmp_dict)\n",
    "                for inn in mydict['innings']:\n",
    "                    idx = 0\n",
    "                    for inn_key in ['1st innings', '2nd innings']:\n",
    "                        if (inn_key in inn.keys()):\n",
    "                            print('Fetching data from: ', str( yamlfile ) )\n",
    "                            player_df_init_list += get_info_from_delivery( inn[inn_key]['deliveries'], str( yamlfile.name ) )\n",
    "                        idx += 1\n",
    "            else:\n",
    "                unused_files.append( str(yamlfile) + ': No innings data' )\n",
    "        else:\n",
    "            unused_files.append( str(yamlfile) + ': Female team' )\n",
    "    else:\n",
    "        unused_files.append( str(yamlfile) + ': Invalid year: ' + str( mydict['info']['dates'][0].year ) )\n",
    "\n",
    "print('\\n\\nFollowing files were not used\\n')\n",
    "print(*unused_files, sep='\\n')"
   ]
  },
  {
   "cell_type": "markdown",
   "metadata": {},
   "source": [
    "## Replace '( sub )' in player names. In data files, it has been used to indicate substitute."
   ]
  },
  {
   "cell_type": "code",
   "execution_count": 179,
   "metadata": {
    "ExecuteTime": {
     "end_time": "2019-02-26T16:05:56.155467Z",
     "start_time": "2019-02-26T16:05:55.694641Z"
    },
    "init_cell": true
   },
   "outputs": [],
   "source": [
    "tmp_df = pd.DataFrame(player_df_init_list)\n",
    "tmp_df['fielder'].replace(to_replace='([\\a\\.\\ ]*)( \\(sub\\))', value=r'\\1', regex=True, inplace=True)\n",
    "tmp_df['batsman'].replace(to_replace='([\\a\\.\\ ]*)( \\(sub\\))', value=r'\\1', regex=True, inplace=True)\n",
    "tmp_df['bowler'].replace(to_replace='([\\a\\.\\ ]*)( \\(sub\\))', value=r'\\1', regex=True, inplace=True)\n",
    "tmp_df['player_out'].replace(to_replace='([\\a\\.\\ ]*)( \\(sub\\))', value=r'\\1', regex=True, inplace=True)"
   ]
  },
  {
   "cell_type": "markdown",
   "metadata": {},
   "source": [
    "## Check data frame looks OK"
   ]
  },
  {
   "cell_type": "code",
   "execution_count": 180,
   "metadata": {
    "ExecuteTime": {
     "end_time": "2019-02-26T16:05:56.191315Z",
     "start_time": "2019-02-26T16:05:56.156408Z"
    }
   },
   "outputs": [
    {
     "name": "stdout",
     "output_type": "stream",
     "text": [
      "<class 'pandas.core.frame.DataFrame'>\n",
      "RangeIndex: 44440 entries, 0 to 44439\n",
      "Data columns (total 7 columns):\n",
      "batsman        44440 non-null object\n",
      "bowler         44440 non-null object\n",
      "fielder        593 non-null object\n",
      "filename       44440 non-null object\n",
      "player_out     842 non-null object\n",
      "runs           44440 non-null int64\n",
      "wicket_type    842 non-null object\n",
      "dtypes: int64(1), object(6)\n",
      "memory usage: 2.4+ MB\n"
     ]
    }
   ],
   "source": [
    "tmp_df.info()"
   ]
  },
  {
   "cell_type": "markdown",
   "metadata": {},
   "source": [
    "## Create run rate dataframe for batsmen"
   ]
  },
  {
   "cell_type": "code",
   "execution_count": 181,
   "metadata": {
    "ExecuteTime": {
     "end_time": "2019-02-26T16:05:56.261126Z",
     "start_time": "2019-02-26T16:05:56.195304Z"
    },
    "init_cell": true
   },
   "outputs": [],
   "source": [
    "batsman_df = tmp_df.groupby(['batsman', 'filename']).sum().sort_values(by=['batsman', 'filename']).reset_index() \\\n",
    "    .groupby(['batsman'])['runs'].agg([np.mean, np.size, np.sum]).reset_index()\\\n",
    "    .sort_values(by=['mean', 'size'], ascending=False)\\\n",
    "    .rename(columns={'sum':'score','size':'match_count', 'mean':'average_runs_per_match'})"
   ]
  },
  {
   "cell_type": "markdown",
   "metadata": {},
   "source": [
    "## Create wicket taker data frame for bowlers"
   ]
  },
  {
   "cell_type": "code",
   "execution_count": 182,
   "metadata": {
    "ExecuteTime": {
     "end_time": "2019-02-26T16:05:56.306007Z",
     "start_time": "2019-02-26T16:05:56.265116Z"
    },
    "init_cell": true
   },
   "outputs": [],
   "source": [
    "bowler_df = tmp_df[ ~tmp_df['player_out'].isnull() & tmp_df['fielder'].isnull() ].groupby(['bowler', 'filename'])\\\n",
    "    ['batsman'].agg(np.size).reset_index()\\\n",
    "    .groupby(['bowler'])['batsman'].agg([ np.mean, np.size, np.sum ]).reset_index()\\\n",
    "    .sort_values(by=['mean', 'size'], ascending=False).rename(columns={'size':'match_count', 'sum':'wickets', 'mean':'avg_wkt_per_match'})"
   ]
  },
  {
   "cell_type": "markdown",
   "metadata": {},
   "source": [
    "## Create wicket taker data frame for fielders"
   ]
  },
  {
   "cell_type": "code",
   "execution_count": 183,
   "metadata": {
    "ExecuteTime": {
     "end_time": "2019-02-26T16:05:56.340912Z",
     "start_time": "2019-02-26T16:05:56.308002Z"
    }
   },
   "outputs": [],
   "source": [
    "fielder_df = tmp_df[ ~(tmp_df['player_out'].isnull() & tmp_df['fielder'].isnull()) ].groupby(['fielder', 'filename'])\\\n",
    "    ['batsman'].agg(np.size).reset_index()\\\n",
    "    .groupby(['fielder'])['batsman'].agg([ np.mean, np.size, np.sum ]).reset_index()\\\n",
    "    .sort_values(by=['mean', 'sum'], ascending=False).rename(columns={'size':'match_count', 'sum':'wickets', 'mean':'avg_wkt_per_match'})"
   ]
  },
  {
   "cell_type": "markdown",
   "metadata": {},
   "source": [
    "## Check highest average score for batsmen in 2019 IND/AUS teams where matches played by batsman is more than average numbers of matches played. This ensures consistency in performance is accounted for. "
   ]
  },
  {
   "cell_type": "code",
   "execution_count": 184,
   "metadata": {
    "ExecuteTime": {
     "end_time": "2019-02-26T16:05:56.354880Z",
     "start_time": "2019-02-26T16:05:56.342907Z"
    }
   },
   "outputs": [
    {
     "data": {
      "text/html": [
       "<div>\n",
       "<style scoped>\n",
       "    .dataframe tbody tr th:only-of-type {\n",
       "        vertical-align: middle;\n",
       "    }\n",
       "\n",
       "    .dataframe tbody tr th {\n",
       "        vertical-align: top;\n",
       "    }\n",
       "\n",
       "    .dataframe thead th {\n",
       "        text-align: right;\n",
       "    }\n",
       "</style>\n",
       "<table border=\"1\" class=\"dataframe\">\n",
       "  <thead>\n",
       "    <tr style=\"text-align: right;\">\n",
       "      <th></th>\n",
       "      <th>batsman</th>\n",
       "      <th>average_runs_per_match</th>\n",
       "      <th>match_count</th>\n",
       "      <th>score</th>\n",
       "    </tr>\n",
       "  </thead>\n",
       "  <tbody>\n",
       "    <tr>\n",
       "      <th>131</th>\n",
       "      <td>V Kohli</td>\n",
       "      <td>50.354167</td>\n",
       "      <td>48</td>\n",
       "      <td>2417</td>\n",
       "    </tr>\n",
       "    <tr>\n",
       "      <th>5</th>\n",
       "      <td>AJ Finch</td>\n",
       "      <td>45.894737</td>\n",
       "      <td>19</td>\n",
       "      <td>872</td>\n",
       "    </tr>\n",
       "    <tr>\n",
       "      <th>111</th>\n",
       "      <td>S Dhawan</td>\n",
       "      <td>39.653846</td>\n",
       "      <td>26</td>\n",
       "      <td>1031</td>\n",
       "    </tr>\n",
       "    <tr>\n",
       "      <th>81</th>\n",
       "      <td>MS Dhoni</td>\n",
       "      <td>34.111111</td>\n",
       "      <td>45</td>\n",
       "      <td>1535</td>\n",
       "    </tr>\n",
       "    <tr>\n",
       "      <th>40</th>\n",
       "      <td>GJ Maxwell</td>\n",
       "      <td>31.090909</td>\n",
       "      <td>22</td>\n",
       "      <td>684</td>\n",
       "    </tr>\n",
       "  </tbody>\n",
       "</table>\n",
       "</div>"
      ],
      "text/plain": [
       "        batsman  average_runs_per_match  match_count  score\n",
       "131     V Kohli               50.354167           48   2417\n",
       "5      AJ Finch               45.894737           19    872\n",
       "111    S Dhawan               39.653846           26   1031\n",
       "81     MS Dhoni               34.111111           45   1535\n",
       "40   GJ Maxwell               31.090909           22    684"
      ]
     },
     "execution_count": 184,
     "metadata": {},
     "output_type": "execute_result"
    }
   ],
   "source": [
    "batsman_df[ batsman_df['batsman'].isin( india_team + aus_team ) &\\\n",
    "           ( batsman_df['match_count'] > batsman_df['match_count'].mean() ) ].head()"
   ]
  },
  {
   "cell_type": "markdown",
   "metadata": {},
   "source": [
    "## Check highest average score for bowlers in 2019 IND/AUS teams where matches played by bowler is more than average numbers of matches played. This ensures consistency in performance is accounted for. "
   ]
  },
  {
   "cell_type": "code",
   "execution_count": 185,
   "metadata": {
    "ExecuteTime": {
     "end_time": "2019-02-26T16:05:56.376820Z",
     "start_time": "2019-02-26T16:05:56.358867Z"
    }
   },
   "outputs": [
    {
     "data": {
      "text/html": [
       "<div>\n",
       "<style scoped>\n",
       "    .dataframe tbody tr th:only-of-type {\n",
       "        vertical-align: middle;\n",
       "    }\n",
       "\n",
       "    .dataframe tbody tr th {\n",
       "        vertical-align: top;\n",
       "    }\n",
       "\n",
       "    .dataframe thead th {\n",
       "        text-align: right;\n",
       "    }\n",
       "</style>\n",
       "<table border=\"1\" class=\"dataframe\">\n",
       "  <thead>\n",
       "    <tr style=\"text-align: right;\">\n",
       "      <th></th>\n",
       "      <th>bowler</th>\n",
       "      <th>avg_wkt_per_match</th>\n",
       "      <th>match_count</th>\n",
       "      <th>wickets</th>\n",
       "    </tr>\n",
       "  </thead>\n",
       "  <tbody>\n",
       "    <tr>\n",
       "      <th>31</th>\n",
       "      <td>NM Lyon</td>\n",
       "      <td>2.000000</td>\n",
       "      <td>7</td>\n",
       "      <td>14</td>\n",
       "    </tr>\n",
       "    <tr>\n",
       "      <th>40</th>\n",
       "      <td>RA Jadeja</td>\n",
       "      <td>1.333333</td>\n",
       "      <td>18</td>\n",
       "      <td>24</td>\n",
       "    </tr>\n",
       "    <tr>\n",
       "      <th>29</th>\n",
       "      <td>Mohammed Shami</td>\n",
       "      <td>1.333333</td>\n",
       "      <td>6</td>\n",
       "      <td>8</td>\n",
       "    </tr>\n",
       "    <tr>\n",
       "      <th>17</th>\n",
       "      <td>JJ Bumrah</td>\n",
       "      <td>1.250000</td>\n",
       "      <td>4</td>\n",
       "      <td>5</td>\n",
       "    </tr>\n",
       "  </tbody>\n",
       "</table>\n",
       "</div>"
      ],
      "text/plain": [
       "            bowler  avg_wkt_per_match  match_count  wickets\n",
       "31         NM Lyon           2.000000            7       14\n",
       "40       RA Jadeja           1.333333           18       24\n",
       "29  Mohammed Shami           1.333333            6        8\n",
       "17       JJ Bumrah           1.250000            4        5"
      ]
     },
     "execution_count": 185,
     "metadata": {},
     "output_type": "execute_result"
    }
   ],
   "source": [
    "bowler_df[ bowler_df['bowler'].isin(aus_team + india_team) &\\\n",
    "           ( bowler_df['match_count'] > bowler_df['match_count'].mean() ) ].head()"
   ]
  },
  {
   "cell_type": "markdown",
   "metadata": {},
   "source": [
    "## Check highest average score for fielders in 2019 IND/AUS teams where matches played by fielder is more than average numbers of matches played. This ensures consistency in performance is accounted for. "
   ]
  },
  {
   "cell_type": "code",
   "execution_count": 186,
   "metadata": {
    "ExecuteTime": {
     "end_time": "2019-02-26T16:05:56.394770Z",
     "start_time": "2019-02-26T16:05:56.378812Z"
    }
   },
   "outputs": [
    {
     "data": {
      "text/html": [
       "<div>\n",
       "<style scoped>\n",
       "    .dataframe tbody tr th:only-of-type {\n",
       "        vertical-align: middle;\n",
       "    }\n",
       "\n",
       "    .dataframe tbody tr th {\n",
       "        vertical-align: top;\n",
       "    }\n",
       "\n",
       "    .dataframe thead th {\n",
       "        text-align: right;\n",
       "    }\n",
       "</style>\n",
       "<table border=\"1\" class=\"dataframe\">\n",
       "  <thead>\n",
       "    <tr style=\"text-align: right;\">\n",
       "      <th></th>\n",
       "      <th>fielder</th>\n",
       "      <th>avg_wkt_per_match</th>\n",
       "      <th>match_count</th>\n",
       "      <th>wickets</th>\n",
       "    </tr>\n",
       "  </thead>\n",
       "  <tbody>\n",
       "    <tr>\n",
       "      <th>52</th>\n",
       "      <td>MS Dhoni</td>\n",
       "      <td>2.125000</td>\n",
       "      <td>32</td>\n",
       "      <td>68</td>\n",
       "    </tr>\n",
       "    <tr>\n",
       "      <th>23</th>\n",
       "      <td>GJ Maxwell</td>\n",
       "      <td>1.500000</td>\n",
       "      <td>10</td>\n",
       "      <td>15</td>\n",
       "    </tr>\n",
       "    <tr>\n",
       "      <th>89</th>\n",
       "      <td>V Kohli</td>\n",
       "      <td>1.320000</td>\n",
       "      <td>25</td>\n",
       "      <td>33</td>\n",
       "    </tr>\n",
       "    <tr>\n",
       "      <th>74</th>\n",
       "      <td>S Dhawan</td>\n",
       "      <td>1.181818</td>\n",
       "      <td>11</td>\n",
       "      <td>13</td>\n",
       "    </tr>\n",
       "    <tr>\n",
       "      <th>69</th>\n",
       "      <td>RA Jadeja</td>\n",
       "      <td>1.117647</td>\n",
       "      <td>17</td>\n",
       "      <td>19</td>\n",
       "    </tr>\n",
       "  </tbody>\n",
       "</table>\n",
       "</div>"
      ],
      "text/plain": [
       "       fielder  avg_wkt_per_match  match_count  wickets\n",
       "52    MS Dhoni           2.125000           32       68\n",
       "23  GJ Maxwell           1.500000           10       15\n",
       "89     V Kohli           1.320000           25       33\n",
       "74    S Dhawan           1.181818           11       13\n",
       "69   RA Jadeja           1.117647           17       19"
      ]
     },
     "execution_count": 186,
     "metadata": {},
     "output_type": "execute_result"
    }
   ],
   "source": [
    "fielder_df[ fielder_df['fielder'].isin(aus_team + india_team) &\\\n",
    "           ( fielder_df['match_count'] > fielder_df['match_count'].mean() ) ].head()"
   ]
  },
  {
   "cell_type": "markdown",
   "metadata": {},
   "source": [
    "## Create dataframe for match winners"
   ]
  },
  {
   "cell_type": "code",
   "execution_count": 187,
   "metadata": {
    "ExecuteTime": {
     "end_time": "2019-02-26T16:05:56.403745Z",
     "start_time": "2019-02-26T16:05:56.396764Z"
    }
   },
   "outputs": [],
   "source": [
    "match_df = pd.DataFrame(winner_df_init_list)"
   ]
  },
  {
   "cell_type": "markdown",
   "metadata": {},
   "source": [
    "### Compare number of wins by both countries"
   ]
  },
  {
   "cell_type": "code",
   "execution_count": 188,
   "metadata": {
    "ExecuteTime": {
     "end_time": "2019-02-26T16:05:56.428678Z",
     "start_time": "2019-02-26T16:05:56.407740Z"
    }
   },
   "outputs": [
    {
     "data": {
      "text/html": [
       "<div>\n",
       "<style scoped>\n",
       "    .dataframe tbody tr th:only-of-type {\n",
       "        vertical-align: middle;\n",
       "    }\n",
       "\n",
       "    .dataframe tbody tr th {\n",
       "        vertical-align: top;\n",
       "    }\n",
       "\n",
       "    .dataframe thead th {\n",
       "        text-align: right;\n",
       "    }\n",
       "</style>\n",
       "<table border=\"1\" class=\"dataframe\">\n",
       "  <thead>\n",
       "    <tr style=\"text-align: right;\">\n",
       "      <th></th>\n",
       "      <th>country</th>\n",
       "      <th>0</th>\n",
       "    </tr>\n",
       "  </thead>\n",
       "  <tbody>\n",
       "    <tr>\n",
       "      <th>0</th>\n",
       "      <td>Australia</td>\n",
       "      <td>25</td>\n",
       "    </tr>\n",
       "    <tr>\n",
       "      <th>1</th>\n",
       "      <td>India</td>\n",
       "      <td>27</td>\n",
       "    </tr>\n",
       "  </tbody>\n",
       "</table>\n",
       "</div>"
      ],
      "text/plain": [
       "     country   0\n",
       "0  Australia  25\n",
       "1      India  27"
      ]
     },
     "execution_count": 188,
     "metadata": {},
     "output_type": "execute_result"
    }
   ],
   "source": [
    "match_df.groupby('country').size().reset_index()"
   ]
  },
  {
   "cell_type": "code",
   "execution_count": null,
   "metadata": {},
   "outputs": [],
   "source": []
  }
 ],
 "metadata": {
  "celltoolbar": "Initialization Cell",
  "hide_input": false,
  "kernelspec": {
   "display_name": "Python 3",
   "language": "python",
   "name": "python3"
  },
  "language_info": {
   "codemirror_mode": {
    "name": "ipython",
    "version": 3
   },
   "file_extension": ".py",
   "mimetype": "text/x-python",
   "name": "python",
   "nbconvert_exporter": "python",
   "pygments_lexer": "ipython3",
   "version": "3.7.2"
  },
  "toc": {
   "base_numbering": 1,
   "nav_menu": {},
   "number_sections": true,
   "sideBar": true,
   "skip_h1_title": false,
   "title_cell": "Table of Contents",
   "title_sidebar": "Contents",
   "toc_cell": false,
   "toc_position": {},
   "toc_section_display": true,
   "toc_window_display": false
  }
 },
 "nbformat": 4,
 "nbformat_minor": 2
}
